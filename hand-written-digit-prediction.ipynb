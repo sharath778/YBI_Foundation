{
 "cells": [
  {
   "cell_type": "markdown",
   "id": "343c47c8",
   "metadata": {
    "papermill": {
     "duration": 0.013746,
     "end_time": "2023-11-09T17:24:14.136303",
     "exception": false,
     "start_time": "2023-11-09T17:24:14.122557",
     "status": "completed"
    },
    "tags": []
   },
   "source": [
    "**import librry**"
   ]
  },
  {
   "cell_type": "code",
   "execution_count": 1,
   "id": "96a3a798",
   "metadata": {
    "execution": {
     "iopub.execute_input": "2023-11-09T17:24:14.161571Z",
     "iopub.status.busy": "2023-11-09T17:24:14.161083Z",
     "iopub.status.idle": "2023-11-09T17:24:14.570985Z",
     "shell.execute_reply": "2023-11-09T17:24:14.569951Z"
    },
    "papermill": {
     "duration": 0.425769,
     "end_time": "2023-11-09T17:24:14.573892",
     "exception": false,
     "start_time": "2023-11-09T17:24:14.148123",
     "status": "completed"
    },
    "tags": []
   },
   "outputs": [],
   "source": [
    "import pandas as pd"
   ]
  },
  {
   "cell_type": "code",
   "execution_count": 2,
   "id": "791242fc",
   "metadata": {
    "execution": {
     "iopub.execute_input": "2023-11-09T17:24:14.599635Z",
     "iopub.status.busy": "2023-11-09T17:24:14.598726Z",
     "iopub.status.idle": "2023-11-09T17:24:14.604027Z",
     "shell.execute_reply": "2023-11-09T17:24:14.603109Z"
    },
    "papermill": {
     "duration": 0.021064,
     "end_time": "2023-11-09T17:24:14.606798",
     "exception": false,
     "start_time": "2023-11-09T17:24:14.585734",
     "status": "completed"
    },
    "tags": []
   },
   "outputs": [],
   "source": [
    "import numpy as np"
   ]
  },
  {
   "cell_type": "code",
   "execution_count": 3,
   "id": "37d94fde",
   "metadata": {
    "execution": {
     "iopub.execute_input": "2023-11-09T17:24:14.632450Z",
     "iopub.status.busy": "2023-11-09T17:24:14.631682Z",
     "iopub.status.idle": "2023-11-09T17:24:14.635709Z",
     "shell.execute_reply": "2023-11-09T17:24:14.635009Z"
    },
    "papermill": {
     "duration": 0.019175,
     "end_time": "2023-11-09T17:24:14.637817",
     "exception": false,
     "start_time": "2023-11-09T17:24:14.618642",
     "status": "completed"
    },
    "tags": []
   },
   "outputs": [],
   "source": [
    "import matplotlib.pyplot as plt"
   ]
  },
  {
   "cell_type": "markdown",
   "id": "1229b878",
   "metadata": {
    "papermill": {
     "duration": 0.010987,
     "end_time": "2023-11-09T17:24:14.660327",
     "exception": false,
     "start_time": "2023-11-09T17:24:14.649340",
     "status": "completed"
    },
    "tags": []
   },
   "source": [
    "**import Data**"
   ]
  },
  {
   "cell_type": "code",
   "execution_count": 4,
   "id": "eb3a0b60",
   "metadata": {
    "execution": {
     "iopub.execute_input": "2023-11-09T17:24:14.685081Z",
     "iopub.status.busy": "2023-11-09T17:24:14.684255Z",
     "iopub.status.idle": "2023-11-09T17:24:15.806099Z",
     "shell.execute_reply": "2023-11-09T17:24:15.805115Z"
    },
    "papermill": {
     "duration": 1.13704,
     "end_time": "2023-11-09T17:24:15.808745",
     "exception": false,
     "start_time": "2023-11-09T17:24:14.671705",
     "status": "completed"
    },
    "tags": []
   },
   "outputs": [],
   "source": [
    "from sklearn.datasets import load_digits"
   ]
  },
  {
   "cell_type": "code",
   "execution_count": 5,
   "id": "a19348eb",
   "metadata": {
    "execution": {
     "iopub.execute_input": "2023-11-09T17:24:15.834603Z",
     "iopub.status.busy": "2023-11-09T17:24:15.833656Z",
     "iopub.status.idle": "2023-11-09T17:24:15.861403Z",
     "shell.execute_reply": "2023-11-09T17:24:15.860382Z"
    },
    "papermill": {
     "duration": 0.043449,
     "end_time": "2023-11-09T17:24:15.864075",
     "exception": false,
     "start_time": "2023-11-09T17:24:15.820626",
     "status": "completed"
    },
    "tags": []
   },
   "outputs": [],
   "source": [
    "df = load_digits()"
   ]
  },
  {
   "cell_type": "code",
   "execution_count": 6,
   "id": "a56a78fb",
   "metadata": {
    "execution": {
     "iopub.execute_input": "2023-11-09T17:24:15.888769Z",
     "iopub.status.busy": "2023-11-09T17:24:15.888349Z",
     "iopub.status.idle": "2023-11-09T17:24:16.393493Z",
     "shell.execute_reply": "2023-11-09T17:24:16.392685Z"
    },
    "papermill": {
     "duration": 0.520224,
     "end_time": "2023-11-09T17:24:16.395860",
     "exception": false,
     "start_time": "2023-11-09T17:24:15.875636",
     "status": "completed"
    },
    "tags": []
   },
   "outputs": [
    {
     "data": {
      "image/png": "[encoded data removed]",
      "text/plain": [
       "<Figure size 1000x300 with 4 Axes>"
      ]
     },
     "metadata": {},
     "output_type": "display_data"
    }
   ],
   "source": [
    "_, axes = plt.subplots(nrows=1,ncols=4,figsize=(10,3))\n",
    "for ax,image,label in  zip(axes,df.images,df.target):\n",
    "    ax.set_axis_off()\n",
    "    ax.imshow(image,cmap=plt.cm.gray_r, interpolation=\"nearest\")\n",
    "    ax.set_title(\"Training: %i\" % label)"
   ]
  },
  {
   "cell_type": "markdown",
   "id": "53810e51",
   "metadata": {
    "papermill": {
     "duration": 0.011293,
     "end_time": "2023-11-09T17:24:16.418739",
     "exception": false,
     "start_time": "2023-11-09T17:24:16.407446",
     "status": "completed"
    },
    "tags": []
   },
   "source": [
    "**Data Preprocessing**"
   ]
  },
  {
   "cell_type": "code",
   "execution_count": 7,
   "id": "e7688388",
   "metadata": {
    "execution": {
     "iopub.execute_input": "2023-11-09T17:24:16.445639Z",
     "iopub.status.busy": "2023-11-09T17:24:16.444907Z",
     "iopub.status.idle": "2023-11-09T17:24:16.451606Z",
     "shell.execute_reply": "2023-11-09T17:24:16.450483Z"
    },
    "papermill": {
     "duration": 0.02237,
     "end_time": "2023-11-09T17:24:16.454134",
     "exception": false,
     "start_time": "2023-11-09T17:24:16.431764",
     "status": "completed"
    },
    "tags": []
   },
   "outputs": [
    {
     "data": {
      "text/plain": [
       "(1797, 8, 8)"
      ]
     },
     "execution_count": 7,
     "metadata": {},
     "output_type": "execute_result"
    }
   ],
   "source": [
    "df.images.shape"
   ]
  },
  {
   "cell_type": "code",
   "execution_count": 8,
   "id": "66722982",
   "metadata": {
    "execution": {
     "iopub.execute_input": "2023-11-09T17:24:16.479550Z",
     "iopub.status.busy": "2023-11-09T17:24:16.479151Z",
     "iopub.status.idle": "2023-11-09T17:24:16.486353Z",
     "shell.execute_reply": "2023-11-09T17:24:16.485375Z"
    },
    "papermill": {
     "duration": 0.022655,
     "end_time": "2023-11-09T17:24:16.488640",
     "exception": false,
     "start_time": "2023-11-09T17:24:16.465985",
     "status": "completed"
    },
    "tags": []
   },
   "outputs": [
    {
     "data": {
      "text/plain": [
       "array([[ 0.,  0.,  5., 13.,  9.,  1.,  0.,  0.],\n",
       "       [ 0.,  0., 13., 15., 10., 15.,  5.,  0.],\n",
       "       [ 0.,  3., 15.,  2.,  0., 11.,  8.,  0.],\n",
       "       [ 0.,  4., 12.,  0.,  0.,  8.,  8.,  0.],\n",
       "       [ 0.,  5.,  8.,  0.,  0.,  9.,  8.,  0.],\n",
       "       [ 0.,  4., 11.,  0.,  1., 12.,  7.,  0.],\n",
       "       [ 0.,  2., 14.,  5., 10., 12.,  0.,  0.],\n",
       "       [ 0.,  0.,  6., 13., 10.,  0.,  0.,  0.]])"
      ]
     },
     "execution_count": 8,
     "metadata": {},
     "output_type": "execute_result"
    }
   ],
   "source": [
    "df.images[0]"
   ]
  },
  {
   "cell_type": "code",
   "execution_count": 9,
   "id": "0b2f10e5",
   "metadata": {
    "execution": {
     "iopub.execute_input": "2023-11-09T17:24:16.514272Z",
     "iopub.status.busy": "2023-11-09T17:24:16.513904Z",
     "iopub.status.idle": "2023-11-09T17:24:16.520265Z",
     "shell.execute_reply": "2023-11-09T17:24:16.519221Z"
    },
    "papermill": {
     "duration": 0.021825,
     "end_time": "2023-11-09T17:24:16.522472",
     "exception": false,
     "start_time": "2023-11-09T17:24:16.500647",
     "status": "completed"
    },
    "tags": []
   },
   "outputs": [
    {
     "data": {
      "text/plain": [
       "(8, 8)"
      ]
     },
     "execution_count": 9,
     "metadata": {},
     "output_type": "execute_result"
    }
   ],
   "source": [
    "df.images[0].shape"
   ]
  },
  {
   "cell_type": "code",
   "execution_count": 10,
   "id": "ec277ee0",
   "metadata": {
    "execution": {
     "iopub.execute_input": "2023-11-09T17:24:16.549171Z",
     "iopub.status.busy": "2023-11-09T17:24:16.548303Z",
     "iopub.status.idle": "2023-11-09T17:24:16.555061Z",
     "shell.execute_reply": "2023-11-09T17:24:16.554157Z"
    },
    "papermill": {
     "duration": 0.022316,
     "end_time": "2023-11-09T17:24:16.557192",
     "exception": false,
     "start_time": "2023-11-09T17:24:16.534876",
     "status": "completed"
    },
    "tags": []
   },
   "outputs": [
    {
     "data": {
      "text/plain": [
       "1797"
      ]
     },
     "execution_count": 10,
     "metadata": {},
     "output_type": "execute_result"
    }
   ],
   "source": [
    "len(df.images)"
   ]
  },
  {
   "cell_type": "code",
   "execution_count": 11,
   "id": "3b106ced",
   "metadata": {
    "execution": {
     "iopub.execute_input": "2023-11-09T17:24:16.583359Z",
     "iopub.status.busy": "2023-11-09T17:24:16.582687Z",
     "iopub.status.idle": "2023-11-09T17:24:16.587186Z",
     "shell.execute_reply": "2023-11-09T17:24:16.586323Z"
    },
    "papermill": {
     "duration": 0.019944,
     "end_time": "2023-11-09T17:24:16.589249",
     "exception": false,
     "start_time": "2023-11-09T17:24:16.569305",
     "status": "completed"
    },
    "tags": []
   },
   "outputs": [],
   "source": [
    "n_samples = len(df.images)\n",
    "data = df.images.reshape((n_samples,-1))"
   ]
  },
  {
   "cell_type": "code",
   "execution_count": 12,
   "id": "9c754615",
   "metadata": {
    "execution": {
     "iopub.execute_input": "2023-11-09T17:24:16.615601Z",
     "iopub.status.busy": "2023-11-09T17:24:16.614958Z",
     "iopub.status.idle": "2023-11-09T17:24:16.621833Z",
     "shell.execute_reply": "2023-11-09T17:24:16.620863Z"
    },
    "papermill": {
     "duration": 0.022675,
     "end_time": "2023-11-09T17:24:16.624081",
     "exception": false,
     "start_time": "2023-11-09T17:24:16.601406",
     "status": "completed"
    },
    "tags": []
   },
   "outputs": [
    {
     "data": {
      "text/plain": [
       "array([ 0.,  0.,  5., 13.,  9.,  1.,  0.,  0.,  0.,  0., 13., 15., 10.,\n",
       "       15.,  5.,  0.,  0.,  3., 15.,  2.,  0., 11.,  8.,  0.,  0.,  4.,\n",
       "       12.,  0.,  0.,  8.,  8.,  0.,  0.,  5.,  8.,  0.,  0.,  9.,  8.,\n",
       "        0.,  0.,  4., 11.,  0.,  1., 12.,  7.,  0.,  0.,  2., 14.,  5.,\n",
       "       10., 12.,  0.,  0.,  0.,  0.,  6., 13., 10.,  0.,  0.,  0.])"
      ]
     },
     "execution_count": 12,
     "metadata": {},
     "output_type": "execute_result"
    }
   ],
   "source": [
    "data[0]"
   ]
  },
  {
   "cell_type": "code",
   "execution_count": 13,
   "id": "068aeb76",
   "metadata": {
    "execution": {
     "iopub.execute_input": "2023-11-09T17:24:16.650398Z",
     "iopub.status.busy": "2023-11-09T17:24:16.650012Z",
     "iopub.status.idle": "2023-11-09T17:24:16.656447Z",
     "shell.execute_reply": "2023-11-09T17:24:16.655370Z"
    },
    "papermill": {
     "duration": 0.021985,
     "end_time": "2023-11-09T17:24:16.658476",
     "exception": false,
     "start_time": "2023-11-09T17:24:16.636491",
     "status": "completed"
    },
    "tags": []
   },
   "outputs": [
    {
     "data": {
      "text/plain": [
       "(64,)"
      ]
     },
     "execution_count": 13,
     "metadata": {},
     "output_type": "execute_result"
    }
   ],
   "source": [
    "data[0].shape"
   ]
  },
  {
   "cell_type": "code",
   "execution_count": 14,
   "id": "a747307d",
   "metadata": {
    "execution": {
     "iopub.execute_input": "2023-11-09T17:24:16.685768Z",
     "iopub.status.busy": "2023-11-09T17:24:16.684724Z",
     "iopub.status.idle": "2023-11-09T17:24:16.691259Z",
     "shell.execute_reply": "2023-11-09T17:24:16.690201Z"
    },
    "papermill": {
     "duration": 0.022395,
     "end_time": "2023-11-09T17:24:16.693468",
     "exception": false,
     "start_time": "2023-11-09T17:24:16.671073",
     "status": "completed"
    },
    "tags": []
   },
   "outputs": [
    {
     "data": {
      "text/plain": [
       "(1797, 64)"
      ]
     },
     "execution_count": 14,
     "metadata": {},
     "output_type": "execute_result"
    }
   ],
   "source": [
    "data.shape"
   ]
  },
  {
   "cell_type": "markdown",
   "id": "3046179b",
   "metadata": {
    "papermill": {
     "duration": 0.012239,
     "end_time": "2023-11-09T17:24:16.718452",
     "exception": false,
     "start_time": "2023-11-09T17:24:16.706213",
     "status": "completed"
    },
    "tags": []
   },
   "source": [
    "**Scaling Image Data**"
   ]
  },
  {
   "cell_type": "code",
   "execution_count": 15,
   "id": "87f1c2ad",
   "metadata": {
    "execution": {
     "iopub.execute_input": "2023-11-09T17:24:16.745545Z",
     "iopub.status.busy": "2023-11-09T17:24:16.745148Z",
     "iopub.status.idle": "2023-11-09T17:24:16.752403Z",
     "shell.execute_reply": "2023-11-09T17:24:16.751268Z"
    },
    "papermill": {
     "duration": 0.023465,
     "end_time": "2023-11-09T17:24:16.754644",
     "exception": false,
     "start_time": "2023-11-09T17:24:16.731179",
     "status": "completed"
    },
    "tags": []
   },
   "outputs": [
    {
     "data": {
      "text/plain": [
       "0.0"
      ]
     },
     "execution_count": 15,
     "metadata": {},
     "output_type": "execute_result"
    }
   ],
   "source": [
    "data.min()"
   ]
  },
  {
   "cell_type": "code",
   "execution_count": 16,
   "id": "ebc01e7f",
   "metadata": {
    "execution": {
     "iopub.execute_input": "2023-11-09T17:24:16.782072Z",
     "iopub.status.busy": "2023-11-09T17:24:16.781666Z",
     "iopub.status.idle": "2023-11-09T17:24:16.788279Z",
     "shell.execute_reply": "2023-11-09T17:24:16.787235Z"
    },
    "papermill": {
     "duration": 0.022924,
     "end_time": "2023-11-09T17:24:16.790433",
     "exception": false,
     "start_time": "2023-11-09T17:24:16.767509",
     "status": "completed"
    },
    "tags": []
   },
   "outputs": [
    {
     "data": {
      "text/plain": [
       "16.0"
      ]
     },
     "execution_count": 16,
     "metadata": {},
     "output_type": "execute_result"
    }
   ],
   "source": [
    "data.max()"
   ]
  },
  {
   "cell_type": "code",
   "execution_count": 17,
   "id": "5d647744",
   "metadata": {
    "execution": {
     "iopub.execute_input": "2023-11-09T17:24:16.817823Z",
     "iopub.status.busy": "2023-11-09T17:24:16.817429Z",
     "iopub.status.idle": "2023-11-09T17:24:16.822933Z",
     "shell.execute_reply": "2023-11-09T17:24:16.821879Z"
    },
    "papermill": {
     "duration": 0.021806,
     "end_time": "2023-11-09T17:24:16.825148",
     "exception": false,
     "start_time": "2023-11-09T17:24:16.803342",
     "status": "completed"
    },
    "tags": []
   },
   "outputs": [],
   "source": [
    "data = data/16"
   ]
  },
  {
   "cell_type": "code",
   "execution_count": 18,
   "id": "a630f2a6",
   "metadata": {
    "execution": {
     "iopub.execute_input": "2023-11-09T17:24:16.852570Z",
     "iopub.status.busy": "2023-11-09T17:24:16.852173Z",
     "iopub.status.idle": "2023-11-09T17:24:16.858324Z",
     "shell.execute_reply": "2023-11-09T17:24:16.857595Z"
    },
    "papermill": {
     "duration": 0.022183,
     "end_time": "2023-11-09T17:24:16.860329",
     "exception": false,
     "start_time": "2023-11-09T17:24:16.838146",
     "status": "completed"
    },
    "tags": []
   },
   "outputs": [
    {
     "data": {
      "text/plain": [
       "0.0"
      ]
     },
     "execution_count": 18,
     "metadata": {},
     "output_type": "execute_result"
    }
   ],
   "source": [
    "data.min()"
   ]
  },
  {
   "cell_type": "code",
   "execution_count": 19,
   "id": "53f4cf1d",
   "metadata": {
    "execution": {
     "iopub.execute_input": "2023-11-09T17:24:16.887910Z",
     "iopub.status.busy": "2023-11-09T17:24:16.887483Z",
     "iopub.status.idle": "2023-11-09T17:24:16.894481Z",
     "shell.execute_reply": "2023-11-09T17:24:16.893483Z"
    },
    "papermill": {
     "duration": 0.023406,
     "end_time": "2023-11-09T17:24:16.896691",
     "exception": false,
     "start_time": "2023-11-09T17:24:16.873285",
     "status": "completed"
    },
    "tags": []
   },
   "outputs": [
    {
     "data": {
      "text/plain": [
       "1.0"
      ]
     },
     "execution_count": 19,
     "metadata": {},
     "output_type": "execute_result"
    }
   ],
   "source": [
    "data.max()"
   ]
  },
  {
   "cell_type": "code",
   "execution_count": 20,
   "id": "bd5abced",
   "metadata": {
    "execution": {
     "iopub.execute_input": "2023-11-09T17:24:16.925400Z",
     "iopub.status.busy": "2023-11-09T17:24:16.924651Z",
     "iopub.status.idle": "2023-11-09T17:24:16.932116Z",
     "shell.execute_reply": "2023-11-09T17:24:16.931001Z"
    },
    "papermill": {
     "duration": 0.024193,
     "end_time": "2023-11-09T17:24:16.934358",
     "exception": false,
     "start_time": "2023-11-09T17:24:16.910165",
     "status": "completed"
    },
    "tags": []
   },
   "outputs": [
    {
     "data": {
      "text/plain": [
       "array([0.    , 0.    , 0.3125, 0.8125, 0.5625, 0.0625, 0.    , 0.    ,\n",
       "       0.    , 0.    , 0.8125, 0.9375, 0.625 , 0.9375, 0.3125, 0.    ,\n",
       "       0.    , 0.1875, 0.9375, 0.125 , 0.    , 0.6875, 0.5   , 0.    ,\n",
       "       0.    , 0.25  , 0.75  , 0.    , 0.    , 0.5   , 0.5   , 0.    ,\n",
       "       0.    , 0.3125, 0.5   , 0.    , 0.    , 0.5625, 0.5   , 0.    ,\n",
       "       0.    , 0.25  , 0.6875, 0.    , 0.0625, 0.75  , 0.4375, 0.    ,\n",
       "       0.    , 0.125 , 0.875 , 0.3125, 0.625 , 0.75  , 0.    , 0.    ,\n",
       "       0.    , 0.    , 0.375 , 0.8125, 0.625 , 0.    , 0.    , 0.    ])"
      ]
     },
     "execution_count": 20,
     "metadata": {},
     "output_type": "execute_result"
    }
   ],
   "source": [
    "data[0]"
   ]
  },
  {
   "cell_type": "markdown",
   "id": "5a5c43f2",
   "metadata": {
    "papermill": {
     "duration": 0.01367,
     "end_time": "2023-11-09T17:24:17.019701",
     "exception": false,
     "start_time": "2023-11-09T17:24:17.006031",
     "status": "completed"
    },
    "tags": []
   },
   "source": [
    "**Train Test Split Data**"
   ]
  },
  {
   "cell_type": "code",
   "execution_count": 21,
   "id": "3b5bb21c",
   "metadata": {
    "execution": {
     "iopub.execute_input": "2023-11-09T17:24:17.048485Z",
     "iopub.status.busy": "2023-11-09T17:24:17.048075Z",
     "iopub.status.idle": "2023-11-09T17:24:17.135624Z",
     "shell.execute_reply": "2023-11-09T17:24:17.134760Z"
    },
    "papermill": {
     "duration": 0.104857,
     "end_time": "2023-11-09T17:24:17.138102",
     "exception": false,
     "start_time": "2023-11-09T17:24:17.033245",
     "status": "completed"
    },
    "tags": []
   },
   "outputs": [],
   "source": [
    "from sklearn.model_selection import train_test_split"
   ]
  },
  {
   "cell_type": "code",
   "execution_count": 22,
   "id": "37f38d32",
   "metadata": {
    "execution": {
     "iopub.execute_input": "2023-11-09T17:24:17.167117Z",
     "iopub.status.busy": "2023-11-09T17:24:17.166699Z",
     "iopub.status.idle": "2023-11-09T17:24:17.172372Z",
     "shell.execute_reply": "2023-11-09T17:24:17.171247Z"
    },
    "papermill": {
     "duration": 0.022831,
     "end_time": "2023-11-09T17:24:17.174622",
     "exception": false,
     "start_time": "2023-11-09T17:24:17.151791",
     "status": "completed"
    },
    "tags": []
   },
   "outputs": [],
   "source": [
    "x_train,x_test,y_train,y_test = train_test_split(data,df.target,test_size=0.3)"
   ]
  },
  {
   "cell_type": "code",
   "execution_count": 23,
   "id": "53493d3e",
   "metadata": {
    "execution": {
     "iopub.execute_input": "2023-11-09T17:24:17.204183Z",
     "iopub.status.busy": "2023-11-09T17:24:17.203567Z",
     "iopub.status.idle": "2023-11-09T17:24:17.209845Z",
     "shell.execute_reply": "2023-11-09T17:24:17.208789Z"
    },
    "papermill": {
     "duration": 0.024014,
     "end_time": "2023-11-09T17:24:17.212271",
     "exception": false,
     "start_time": "2023-11-09T17:24:17.188257",
     "status": "completed"
    },
    "tags": []
   },
   "outputs": [
    {
     "data": {
      "text/plain": [
       "((1257, 64), (540, 64), (1257,), (540,))"
      ]
     },
     "execution_count": 23,
     "metadata": {},
     "output_type": "execute_result"
    }
   ],
   "source": [
    "x_train.shape, x_test.shape, y_train.shape, y_test.shape"
   ]
  },
  {
   "cell_type": "markdown",
   "id": "6516ff83",
   "metadata": {
    "papermill": {
     "duration": 0.013499,
     "end_time": "2023-11-09T17:24:17.239706",
     "exception": false,
     "start_time": "2023-11-09T17:24:17.226207",
     "status": "completed"
    },
    "tags": []
   },
   "source": [
    "**Random Forest Model**"
   ]
  },
  {
   "cell_type": "code",
   "execution_count": 24,
   "id": "c2091e19",
   "metadata": {
    "execution": {
     "iopub.execute_input": "2023-11-09T17:24:17.269537Z",
     "iopub.status.busy": "2023-11-09T17:24:17.268895Z",
     "iopub.status.idle": "2023-11-09T17:24:17.598781Z",
     "shell.execute_reply": "2023-11-09T17:24:17.597865Z"
    },
    "papermill": {
     "duration": 0.34787,
     "end_time": "2023-11-09T17:24:17.601377",
     "exception": false,
     "start_time": "2023-11-09T17:24:17.253507",
     "status": "completed"
    },
    "tags": []
   },
   "outputs": [],
   "source": [
    "from sklearn.ensemble import RandomForestClassifier\n"
   ]
  },
  {
   "cell_type": "code",
   "execution_count": 25,
   "id": "00075c8c",
   "metadata": {
    "execution": {
     "iopub.execute_input": "2023-11-09T17:24:17.631099Z",
     "iopub.status.busy": "2023-11-09T17:24:17.630718Z",
     "iopub.status.idle": "2023-11-09T17:24:17.635483Z",
     "shell.execute_reply": "2023-11-09T17:24:17.634356Z"
    },
    "papermill": {
     "duration": 0.022499,
     "end_time": "2023-11-09T17:24:17.637754",
     "exception": false,
     "start_time": "2023-11-09T17:24:17.615255",
     "status": "completed"
    },
    "tags": []
   },
   "outputs": [],
   "source": [
    "rf = RandomForestClassifier()\n"
   ]
  },
  {
   "cell_type": "code",
   "execution_count": 26,
   "id": "3f79babe",
   "metadata": {
    "execution": {
     "iopub.execute_input": "2023-11-09T17:24:17.666300Z",
     "iopub.status.busy": "2023-11-09T17:24:17.665925Z",
     "iopub.status.idle": "2023-11-09T17:24:18.100649Z",
     "shell.execute_reply": "2023-11-09T17:24:18.099570Z"
    },
    "papermill": {
     "duration": 0.451779,
     "end_time": "2023-11-09T17:24:18.103091",
     "exception": false,
     "start_time": "2023-11-09T17:24:17.651312",
     "status": "completed"
    },
    "tags": []
   },
   "outputs": [
    {
     "data": {
      "text/html": [
       "<style>#sk-container-id-1 {color: black;background-color: white;}#sk-container-id-1 pre{padding: 0;}#sk-container-id-1 div.sk-toggleable {background-color: white;}#sk-container-id-1 label.sk-toggleable__label {cursor: pointer;display: block;width: 100%;margin-bottom: 0;padding: 0.3em;box-sizing: border-box;text-align: center;}#sk-container-id-1 label.sk-toggleable__label-arrow:before {content: \"▸\";float: left;margin-right: 0.25em;color: #696969;}#sk-container-id-1 label.sk-toggleable__label-arrow:hover:before {color: black;}#sk-container-id-1 div.sk-estimator:hover label.sk-toggleable__label-arrow:before {color: black;}#sk-container-id-1 div.sk-toggleable__content {max-height: 0;max-width: 0;overflow: hidden;text-align: left;background-color: #f0f8ff;}#sk-container-id-1 div.sk-toggleable__content pre {margin: 0.2em;color: black;border-radius: 0.25em;background-color: #f0f8ff;}#sk-container-id-1 input.sk-toggleable__control:checked~div.sk-toggleable__content {max-height: 200px;max-width: 100%;overflow: auto;}#sk-container-id-1 input.sk-toggleable__control:checked~label.sk-toggleable__label-arrow:before {content: \"▾\";}#sk-container-id-1 div.sk-estimator input.sk-toggleable__control:checked~label.sk-toggleable__label {background-color: #d4ebff;}#sk-container-id-1 div.sk-label input.sk-toggleable__control:checked~label.sk-toggleable__label {background-color: #d4ebff;}#sk-container-id-1 input.sk-hidden--visually {border: 0;clip: rect(1px 1px 1px 1px);clip: rect(1px, 1px, 1px, 1px);height: 1px;margin: -1px;overflow: hidden;padding: 0;position: absolute;width: 1px;}#sk-container-id-1 div.sk-estimator {font-family: monospace;background-color: #f0f8ff;border: 1px dotted black;border-radius: 0.25em;box-sizing: border-box;margin-bottom: 0.5em;}#sk-container-id-1 div.sk-estimator:hover {background-color: #d4ebff;}#sk-container-id-1 div.sk-parallel-item::after {content: \"\";width: 100%;border-bottom: 1px solid gray;flex-grow: 1;}#sk-container-id-1 div.sk-label:hover label.sk-toggleable__label {background-color: #d4ebff;}#sk-container-id-1 div.sk-serial::before {content: \"\";position: absolute;border-left: 1px solid gray;box-sizing: border-box;top: 0;bottom: 0;left: 50%;z-index: 0;}#sk-container-id-1 div.sk-serial {display: flex;flex-direction: column;align-items: center;background-color: white;padding-right: 0.2em;padding-left: 0.2em;position: relative;}#sk-container-id-1 div.sk-item {position: relative;z-index: 1;}#sk-container-id-1 div.sk-parallel {display: flex;align-items: stretch;justify-content: center;background-color: white;position: relative;}#sk-container-id-1 div.sk-item::before, #sk-container-id-1 div.sk-parallel-item::before {content: \"\";position: absolute;border-left: 1px solid gray;box-sizing: border-box;top: 0;bottom: 0;left: 50%;z-index: -1;}#sk-container-id-1 div.sk-parallel-item {display: flex;flex-direction: column;z-index: 1;position: relative;background-color: white;}#sk-container-id-1 div.sk-parallel-item:first-child::after {align-self: flex-end;width: 50%;}#sk-container-id-1 div.sk-parallel-item:last-child::after {align-self: flex-start;width: 50%;}#sk-container-id-1 div.sk-parallel-item:only-child::after {width: 0;}#sk-container-id-1 div.sk-dashed-wrapped {border: 1px dashed gray;margin: 0 0.4em 0.5em 0.4em;box-sizing: border-box;padding-bottom: 0.4em;background-color: white;}#sk-container-id-1 div.sk-label label {font-family: monospace;font-weight: bold;display: inline-block;line-height: 1.2em;}#sk-container-id-1 div.sk-label-container {text-align: center;}#sk-container-id-1 div.sk-container {/* jupyter's `normalize.less` sets `[hidden] { display: none; }` but bootstrap.min.css set `[hidden] { display: none !important; }` so we also need the `!important` here to be able to override the default hidden behavior on the sphinx rendered scikit-learn.org. See: https://github.com/scikit-learn/scikit-learn/issues/21755 */display: inline-block !important;position: relative;}#sk-container-id-1 div.sk-text-repr-fallback {display: none;}</style><div id=\"sk-container-id-1\" class=\"sk-top-container\"><div class=\"sk-text-repr-fallback\"><pre>RandomForestClassifier()</pre><b>In a Jupyter environment, please rerun this cell to show the HTML representation or trust the notebook. <br />On GitHub, the HTML representation is unable to render, please try loading this page with nbviewer.org.</b></div><div class=\"sk-container\" hidden><div class=\"sk-item\"><div class=\"sk-estimator sk-toggleable\"><input class=\"sk-toggleable__control sk-hidden--visually\" id=\"sk-estimator-id-1\" type=\"checkbox\" checked><label for=\"sk-estimator-id-1\" class=\"sk-toggleable__label sk-toggleable__label-arrow\">RandomForestClassifier</label><div class=\"sk-toggleable__content\"><pre>RandomForestClassifier()</pre></div></div></div></div></div>"
      ],
      "text/plain": [
       "RandomForestClassifier()"
      ]
     },
     "execution_count": 26,
     "metadata": {},
     "output_type": "execute_result"
    }
   ],
   "source": [
    "rf.fit(x_train, y_train)\n",
    "\n"
   ]
  },
  {
   "cell_type": "markdown",
   "id": "926d700c",
   "metadata": {
    "papermill": {
     "duration": 0.013491,
     "end_time": "2023-11-09T17:24:18.130548",
     "exception": false,
     "start_time": "2023-11-09T17:24:18.117057",
     "status": "completed"
    },
    "tags": []
   },
   "source": [
    "**Predict Test Data**"
   ]
  },
  {
   "cell_type": "code",
   "execution_count": 27,
   "id": "545d9a93",
   "metadata": {
    "execution": {
     "iopub.execute_input": "2023-11-09T17:24:18.161085Z",
     "iopub.status.busy": "2023-11-09T17:24:18.160679Z",
     "iopub.status.idle": "2023-11-09T17:24:18.183949Z",
     "shell.execute_reply": "2023-11-09T17:24:18.182787Z"
    },
    "papermill": {
     "duration": 0.041707,
     "end_time": "2023-11-09T17:24:18.186601",
     "exception": false,
     "start_time": "2023-11-09T17:24:18.144894",
     "status": "completed"
    },
    "tags": []
   },
   "outputs": [],
   "source": [
    " y_pred = rf.predict(x_test)\n"
   ]
  },
  {
   "cell_type": "code",
   "execution_count": 28,
   "id": "06b3d0bd",
   "metadata": {
    "execution": {
     "iopub.execute_input": "2023-11-09T17:24:18.216400Z",
     "iopub.status.busy": "2023-11-09T17:24:18.216025Z",
     "iopub.status.idle": "2023-11-09T17:24:18.224754Z",
     "shell.execute_reply": "2023-11-09T17:24:18.223719Z"
    },
    "papermill": {
     "duration": 0.026447,
     "end_time": "2023-11-09T17:24:18.227095",
     "exception": false,
     "start_time": "2023-11-09T17:24:18.200648",
     "status": "completed"
    },
    "tags": []
   },
   "outputs": [
    {
     "data": {
      "text/plain": [
       "array([9, 1, 4, 2, 5, 2, 6, 4, 3, 0, 1, 4, 0, 9, 4, 9, 8, 9, 2, 2, 6, 7,\n",
       "       4, 5, 1, 4, 9, 3, 2, 6, 6, 9, 0, 2, 5, 6, 8, 6, 9, 6, 2, 0, 4, 1,\n",
       "       5, 3, 9, 5, 0, 3, 3, 5, 7, 5, 8, 5, 9, 0, 9, 8, 7, 3, 3, 3, 8, 3,\n",
       "       3, 5, 4, 5, 3, 6, 7, 8, 1, 0, 7, 6, 2, 7, 3, 3, 1, 1, 6, 0, 7, 3,\n",
       "       6, 8, 2, 6, 9, 8, 9, 0, 3, 7, 7, 1, 6, 3, 1, 2, 4, 2, 6, 4, 1, 6,\n",
       "       4, 1, 1, 4, 7, 5, 7, 5, 7, 1, 3, 1, 7, 3, 4, 8, 1, 9, 7, 8, 9, 9,\n",
       "       0, 7, 0, 5, 6, 4, 7, 6, 1, 7, 5, 7, 3, 7, 1, 5, 3, 3, 1, 0, 5, 7,\n",
       "       2, 8, 9, 3, 4, 7, 4, 6, 3, 4, 8, 3, 0, 0, 2, 6, 9, 0, 7, 3, 7, 2,\n",
       "       4, 8, 3, 7, 5, 9, 6, 3, 1, 4, 6, 6, 4, 2, 5, 3, 1, 4, 1, 4, 1, 4,\n",
       "       2, 8, 4, 0, 5, 7, 4, 5, 2, 1, 0, 2, 1, 8, 9, 3, 2, 5, 5, 5, 6, 1,\n",
       "       3, 0, 2, 7, 9, 2, 8, 3, 0, 0, 7, 7, 8, 6, 2, 8, 9, 1, 8, 7, 3, 9,\n",
       "       8, 9, 8, 2, 3, 7, 9, 9, 9, 0, 7, 4, 9, 7, 4, 4, 5, 2, 3, 1, 6, 1,\n",
       "       1, 9, 1, 7, 8, 5, 2, 2, 4, 4, 2, 4, 6, 4, 6, 9, 0, 4, 9, 9, 1, 2,\n",
       "       5, 5, 9, 3, 2, 6, 5, 9, 0, 7, 2, 5, 3, 0, 6, 4, 4, 8, 8, 4, 4, 0,\n",
       "       1, 9, 0, 4, 6, 3, 8, 1, 6, 5, 3, 5, 0, 4, 0, 4, 4, 6, 1, 1, 2, 9,\n",
       "       4, 7, 0, 3, 0, 0, 0, 6, 6, 2, 3, 3, 0, 6, 8, 4, 5, 4, 5, 6, 6, 1,\n",
       "       0, 6, 6, 3, 0, 5, 1, 9, 0, 0, 6, 0, 7, 0, 0, 1, 7, 1, 7, 2, 2, 5,\n",
       "       9, 9, 1, 5, 4, 1, 4, 9, 3, 2, 7, 9, 4, 9, 3, 7, 2, 7, 6, 4, 1, 2,\n",
       "       7, 8, 9, 7, 0, 5, 9, 7, 8, 5, 8, 2, 3, 0, 3, 3, 5, 2, 5, 9, 1, 7,\n",
       "       6, 9, 2, 6, 2, 0, 8, 4, 3, 3, 3, 1, 8, 0, 1, 9, 8, 0, 2, 7, 1, 9,\n",
       "       1, 2, 2, 5, 9, 1, 7, 0, 6, 7, 1, 9, 2, 2, 1, 8, 2, 4, 4, 1, 6, 5,\n",
       "       5, 6, 7, 2, 8, 8, 8, 6, 3, 1, 7, 8, 7, 2, 0, 3, 1, 3, 2, 5, 0, 8,\n",
       "       3, 0, 5, 5, 3, 3, 7, 8, 2, 0, 4, 6, 5, 0, 0, 8, 2, 0, 0, 4, 6, 2,\n",
       "       1, 8, 9, 9, 6, 0, 2, 2, 2, 0, 2, 5, 4, 1, 6, 7, 9, 7, 4, 4, 6, 6,\n",
       "       9, 9, 1, 4, 9, 8, 3, 7, 9, 9, 7, 4])"
      ]
     },
     "execution_count": 28,
     "metadata": {},
     "output_type": "execute_result"
    }
   ],
   "source": [
    "y_pred"
   ]
  },
  {
   "cell_type": "markdown",
   "id": "b1677a28",
   "metadata": {
    "papermill": {
     "duration": 0.01357,
     "end_time": "2023-11-09T17:24:18.254783",
     "exception": false,
     "start_time": "2023-11-09T17:24:18.241213",
     "status": "completed"
    },
    "tags": []
   },
   "source": [
    "**Model Accuracy**"
   ]
  },
  {
   "cell_type": "code",
   "execution_count": 29,
   "id": "8b916a74",
   "metadata": {
    "execution": {
     "iopub.execute_input": "2023-11-09T17:24:18.284135Z",
     "iopub.status.busy": "2023-11-09T17:24:18.283721Z",
     "iopub.status.idle": "2023-11-09T17:24:18.287992Z",
     "shell.execute_reply": "2023-11-09T17:24:18.287147Z"
    },
    "papermill": {
     "duration": 0.021478,
     "end_time": "2023-11-09T17:24:18.290091",
     "exception": false,
     "start_time": "2023-11-09T17:24:18.268613",
     "status": "completed"
    },
    "tags": []
   },
   "outputs": [],
   "source": [
    "from sklearn.metrics import confusion_matrix,classification_report"
   ]
  },
  {
   "cell_type": "code",
   "execution_count": 30,
   "id": "d0d4be6c",
   "metadata": {
    "execution": {
     "iopub.execute_input": "2023-11-09T17:24:18.320356Z",
     "iopub.status.busy": "2023-11-09T17:24:18.319978Z",
     "iopub.status.idle": "2023-11-09T17:24:18.328339Z",
     "shell.execute_reply": "2023-11-09T17:24:18.327563Z"
    },
    "papermill": {
     "duration": 0.025959,
     "end_time": "2023-11-09T17:24:18.330398",
     "exception": false,
     "start_time": "2023-11-09T17:24:18.304439",
     "status": "completed"
    },
    "tags": []
   },
   "outputs": [
    {
     "data": {
      "text/plain": [
       "array([[55,  0,  0,  0,  1,  0,  0,  0,  0,  0],\n",
       "       [ 0, 55,  0,  0,  0,  1,  0,  0,  0,  0],\n",
       "       [ 0,  0, 57,  0,  0,  0,  0,  0,  0,  0],\n",
       "       [ 0,  0,  0, 57,  0,  0,  0,  0,  0,  0],\n",
       "       [ 0,  0,  0,  0, 55,  0,  0,  0,  0,  0],\n",
       "       [ 0,  0,  0,  0,  1, 45,  1,  0,  1,  0],\n",
       "       [ 1,  0,  0,  0,  1,  0, 52,  0,  0,  0],\n",
       "       [ 0,  0,  0,  0,  0,  0,  0, 55,  0,  1],\n",
       "       [ 0,  1,  0,  0,  0,  0,  0,  0, 41,  0],\n",
       "       [ 0,  0,  0,  0,  0,  2,  0,  1,  0, 56]])"
      ]
     },
     "execution_count": 30,
     "metadata": {},
     "output_type": "execute_result"
    }
   ],
   "source": [
    "confusion_matrix(y_test,y_pred)"
   ]
  },
  {
   "cell_type": "code",
   "execution_count": 31,
   "id": "b216d4cf",
   "metadata": {
    "execution": {
     "iopub.execute_input": "2023-11-09T17:24:18.359851Z",
     "iopub.status.busy": "2023-11-09T17:24:18.359461Z",
     "iopub.status.idle": "2023-11-09T17:24:18.373995Z",
     "shell.execute_reply": "2023-11-09T17:24:18.373180Z"
    },
    "papermill": {
     "duration": 0.031909,
     "end_time": "2023-11-09T17:24:18.376333",
     "exception": false,
     "start_time": "2023-11-09T17:24:18.344424",
     "status": "completed"
    },
    "tags": []
   },
   "outputs": [
    {
     "name": "stdout",
     "output_type": "stream",
     "text": [
      "              precision    recall  f1-score   support\n",
      "\n",
      "           0       0.98      0.98      0.98        56\n",
      "           1       0.98      0.98      0.98        56\n",
      "           2       1.00      1.00      1.00        57\n",
      "           3       1.00      1.00      1.00        57\n",
      "           4       0.95      1.00      0.97        55\n",
      "           5       0.94      0.94      0.94        48\n",
      "           6       0.98      0.96      0.97        54\n",
      "           7       0.98      0.98      0.98        56\n",
      "           8       0.98      0.98      0.98        42\n",
      "           9       0.98      0.95      0.97        59\n",
      "\n",
      "    accuracy                           0.98       540\n",
      "   macro avg       0.98      0.98      0.98       540\n",
      "weighted avg       0.98      0.98      0.98       540\n",
      "\n"
     ]
    }
   ],
   "source": [
    "print(classification_report(y_test,y_pred))"
   ]
  }
 ],
 "metadata": {
  "kernelspec": {
   "display_name": "Python 3",
   "language": "python",
   "name": "python3"
  },
  "language_info": {
   "codemirror_mode": {
    "name": "ipython",
    "version": 3
   },
   "file_extension": ".py",
   "mimetype": "text/x-python",
   "name": "python",
   "nbconvert_exporter": "python",
   "pygments_lexer": "ipython3",
   "version": "3.10.12"
  },
  "papermill": {
   "default_parameters": {},
   "duration": 8.39217,
   "end_time": "2023-11-09T17:24:19.009982",
   "environment_variables": {},
   "exception": null,
   "input_path": "__notebook__.ipynb",
   "output_path": "__notebook__.ipynb",
   "parameters": {},
   "start_time": "2023-11-09T17:24:10.617812",
   "version": "2.4.0"
  }
 },
 "nbformat": 4,
 "nbformat_minor": 5
}
